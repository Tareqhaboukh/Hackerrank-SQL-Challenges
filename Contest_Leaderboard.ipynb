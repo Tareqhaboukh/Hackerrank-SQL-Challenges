{
    "metadata": {
        "kernelspec": {
            "name": "SQL",
            "display_name": "SQL",
            "language": "sql"
        },
        "language_info": {
            "name": "sql",
            "version": ""
        }
    },
    "nbformat_minor": 2,
    "nbformat": 4,
    "cells": [
        {
            "cell_type": "markdown",
            "source": [
                "# Contest Leaderboard\n",
                "\n",
                "[Problem Link on Hackerrank](https://www.hackerrank.com/challenges/contest-leaderboard/problem)  \n",
                "\n",
                "You did such a great job helping Julia with her last coding contest challenge that she wants you to work on this one, too!\n",
                "\n",
                "The total score of a hacker is the sum of their maximum scores for all of the challenges. Write a query to print the hacker\\_id, name, and total score of the hackers ordered by the descending score. If more than one hacker achieved the same total score, then sort the result by ascending hacker\\_id. Exclude all hackers with a total score of 0 from your result.\n",
                "\n",
                "Input Format\n",
                "\n",
                "The following tables hold contest data:\n",
                "\n",
                "Hackers: The hacker\\_id is the id of the hacker, and name is the name of the hacker.\n",
                "\n",
                "| Column | Type |\n",
                "| --- | --- |\n",
                "| hacker\\_id | Integer |\n",
                "| name | String |\n",
                "\n",
                "Submissions: The submission\\_date is the date of the submission, submission\\_id is the id of the submission, hacker\\_id is the id of the hacker who made the submission, and score is the score of the submission.\n",
                "\n",
                "| Column | Type |\n",
                "| --- | --- |\n",
                "| submission\\_date | Date |\n",
                "| submission\\_id | Integer |\n",
                "| hacker\\_id | Integer |\n",
                "| score | Integer |"
            ],
            "metadata": {
                "azdata_cell_guid": "10f983a2-7e33-4091-86f1-d04789e2f54a"
            },
            "attachments": {}
        },
        {
            "cell_type": "code",
            "source": [
                "SELECT t.hacker_id, h.name, sum(t.max_score) AS sum_score\r\n",
                "FROM (\r\n",
                "    SELECT s.hacker_id, s.challenge_id cid, max(s.score) AS max_score\r\n",
                "    FROM submissions s\r\n",
                "    GROUP BY s.hacker_id, s.challenge_id\r\n",
                "    ) t\r\n",
                "JOIN hackers h\r\n",
                "    ON t.hacker_id = h.hacker_id\r\n",
                "GROUP BY t.hacker_id, h.name\r\n",
                "HAVING sum_score > 0\r\n",
                "ORDER BY sum_score DESC, t.hacker_id"
            ],
            "metadata": {
                "azdata_cell_guid": "4c606a3a-4513-4713-a03c-931583c566a9",
                "language": "sql"
            },
            "outputs": [],
            "execution_count": null
        }
    ]
}