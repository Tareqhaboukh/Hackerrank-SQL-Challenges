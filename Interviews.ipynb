{
    "metadata": {
        "kernelspec": {
            "name": "SQL",
            "display_name": "SQL",
            "language": "sql"
        },
        "language_info": {
            "name": "sql",
            "version": ""
        }
    },
    "nbformat_minor": 2,
    "nbformat": 4,
    "cells": [
        {
            "cell_type": "markdown",
            "source": [
                "# Interviews\n",
                "\n",
                "[Problem Link on Hackerrank](https://www.hackerrank.com/challenges/interviews/problem)\n",
                "\n",
                "Samantha interviews many candidates from different colleges using coding challenges and contests. Write a query to print the contest\\_id, hacker\\_id, name, and the sums of total\\_submissions, total\\_accepted\\_submissions, total\\_views, and total\\_unique\\_views for each contest sorted by contest\\_id. Exclude the contest from the result if all four sums are 0.\n",
                "\n",
                "**Note:** A specific contest can be used to screen candidates at more than one college, but each college only holds 1 screening contest.\n",
                "\n",
                "Input Format\n",
                "\n",
                "The following tables hold interview data:\n",
                "\n",
                "- Contests: The contest\\_id is the id of the contest, hacker\\_id is the id of the hacker who created the contest, and name is the name of the hacker.\n",
                "\n",
                "| Column | Type |\n",
                "| --- | --- |\n",
                "| contest\\_id | integer |\n",
                "| hacker\\_id | integer |\n",
                "| name | String |\n",
                "\n",
                "- Colleges: The college\\_id is the id of the college, and contest\\_id is the id of the contest that Samantha used to screen the candidates.\n",
                "\n",
                "| Column | Type |\n",
                "| --- | --- |\n",
                "| college\\_id | integer |\n",
                "| contest\\_id | integer |\n",
                "\n",
                "- Challenges: The challenge\\_id is the id of the challenge that belongs to one of the contests whose contest\\_id Samantha forgot, and college\\_id is the id of the college where the challenge was given to candidates.\n",
                "\n",
                "| Column | Type |\n",
                "| --- | --- |\n",
                "| challenge\\_id | integer |\n",
                "| college\\_id | integer |\n",
                "\n",
                "- View\\_Stats: The challenge\\_id is the id of the challenge, total\\_views is the number of times the challenge was viewed by candidates, and total\\_unique\\_views is the number of times the challenge was viewed by unique candidates.\n",
                "\n",
                "| Column | Type |\n",
                "| --- | --- |\n",
                "| challenge\\_id | integer |\n",
                "| total\\_views | integer |\n",
                "| total\\_unique\\_views | integer |\n",
                "\n",
                "- Submission\\_Stats: The challenge\\_id is the id of the challenge, total\\_submissions is the number of submissions for the challenge, and total\\_accepted\\_submission is the number of submissions that achieved full scores.\n",
                "\n",
                "| Column | Type |\n",
                "| --- | --- |\n",
                "| challenge\\_id | integer |\n",
                "| total\\_submissions | integer |\n",
                "| total\\_accepted\\_submission | integer |\n",
                "\n",
                "Sample Output\n",
                "\n",
                "66406 17973 Rose 111 39 156 56\n",
                "\n",
                "66556 79153 Angela 0 0 11 10\n",
                "\n",
                "94828 80275 Frank 150 38 41 15\n",
                "\n",
                "Explanation\n",
                "\n",
                "The contest 66406 is used in the college 11219. In this college 11219, challenges 18765 and 47127 are asked, so from the view and submission stats:\n",
                "\n",
                "Sum of total submissions\n",
                "\n",
                "\\= 27 + 56 + 28 = 111\n",
                "\n",
                "Sum of total accepted submissions\n",
                "\n",
                "\\= 10 + 18 + 11 =39\n",
                "\n",
                "Sum of total views\n",
                "\n",
                "\\= 43 + 72 + 26 + 15 = 156\n",
                "\n",
                "Sum of total unique views\n",
                "\n",
                "\\= 10 + 13 + 19 + 14 =56\n",
                "\n",
                "Similarly, we can find the sums for contests 66556 and 94828.\n",
                "\n",
                "## Solution:"
            ],
            "metadata": {
                "azdata_cell_guid": "231de2f2-4fa3-473d-bc93-ea8ab55545ad"
            },
            "attachments": {}
        },
        {
            "cell_type": "code",
            "source": [
                "WITH total_submit\r\n",
                "AS (\r\n",
                "    SELECT Colleges.contest_id\r\n",
                "        , SUM(Submission_stats.total_submissions) AS ts\r\n",
                "        , SUM(Submission_stats.total_accepted_submissions) AS tas\r\n",
                "    FROM Colleges\r\n",
                "    JOIN Challenges\r\n",
                "        ON Colleges.college_id = Challenges.college_id\r\n",
                "    JOIN Submission_stats\r\n",
                "        ON Challenges.challenge_id = Submission_stats.challenge_id\r\n",
                "    GROUP BY Colleges.contest_id\r\n",
                "    )\r\n",
                "    , total_view\r\n",
                "AS (\r\n",
                "    SELECT Colleges.contest_id\r\n",
                "        , SUM(View_stats.total_views) AS tv\r\n",
                "        , SUM(View_stats.total_unique_views) AS tuv\r\n",
                "    FROM Colleges\r\n",
                "    JOIN Challenges\r\n",
                "        ON Colleges.college_id = Challenges.college_id\r\n",
                "    JOIN View_stats\r\n",
                "        ON Challenges.challenge_id = View_stats.challenge_id\r\n",
                "    GROUP BY Colleges.contest_id\r\n",
                "    )\r\n",
                "SELECT Contests.contest_id\r\n",
                "    , Contests.hacker_id\r\n",
                "    , Contests.name\r\n",
                "    , total_submit.ts\r\n",
                "    , total_submit.tas\r\n",
                "    , total_view.tv\r\n",
                "    , total_view.tuv\r\n",
                "FROM Contests\r\n",
                "JOIN total_submit\r\n",
                "    ON Contests.contest_id = total_submit.contest_id\r\n",
                "JOIN total_view\r\n",
                "    ON Contests.contest_id = total_view.contest_id\r\n",
                "WHERE ts > 0\r\n",
                "    OR tas > 0\r\n",
                "    OR tv > 0\r\n",
                "    OR tuv > 0\r\n",
                "ORDER BY Contests.contest_id"
            ],
            "metadata": {
                "azdata_cell_guid": "072a516a-0275-4762-a06b-b94f37a91356",
                "language": "sql"
            },
            "outputs": [
                {
                    "output_type": "display_data",
                    "data": {
                        "text/html": "(43 rows affected)"
                    },
                    "metadata": {}
                },
                {
                    "output_type": "display_data",
                    "data": {
                        "text/html": "Total execution time: 00:00:00.050"
                    },
                    "metadata": {}
                },
                {
                    "output_type": "execute_result",
                    "metadata": {},
                    "execution_count": 3,
                    "data": {
                        "application/vnd.dataresource+json": {
                            "schema": {
                                "fields": [
                                    {
                                        "name": "contest_id"
                                    },
                                    {
                                        "name": "hacker_id"
                                    },
                                    {
                                        "name": "name"
                                    },
                                    {
                                        "name": "ts"
                                    },
                                    {
                                        "name": "tas"
                                    },
                                    {
                                        "name": "tv"
                                    },
                                    {
                                        "name": "tuv"
                                    }
                                ]
                            },
                            "data": [
                                {
                                    "0": "845",
                                    "1": "579",
                                    "2": "Rose",
                                    "3": "937",
                                    "4": "284",
                                    "5": "834",
                                    "6": "334"
                                },
                                {
                                    "0": "858",
                                    "1": "1053",
                                    "2": "Angela",
                                    "3": "561",
                                    "4": "131",
                                    "5": "536",
                                    "6": "204"
                                },
                                {
                                    "0": "883",
                                    "1": "1055",
                                    "2": "Frank",
                                    "3": "670",
                                    "4": "203",
                                    "5": "389",
                                    "6": "94"
                                },
                                {
                                    "0": "1793",
                                    "1": "2655",
                                    "2": "Patrick",
                                    "3": "573",
                                    "4": "187",
                                    "5": "665",
                                    "6": "247"
                                },
                                {
                                    "0": "2374",
                                    "1": "2765",
                                    "2": "Lisa",
                                    "3": "1364",
                                    "4": "389",
                                    "5": "1656",
                                    "6": "463"
                                },
                                {
                                    "0": "2963",
                                    "1": "2845",
                                    "2": "Kimberly",
                                    "3": "2050",
                                    "4": "621",
                                    "5": "1802",
                                    "6": "577"
                                },
                                {
                                    "0": "3584",
                                    "1": "2873",
                                    "2": "Bonnie",
                                    "3": "1212",
                                    "4": "306",
                                    "5": "1245",
                                    "6": "397"
                                },
                                {
                                    "0": "4044",
                                    "1": "3067",
                                    "2": "Michael",
                                    "3": "586",
                                    "4": "211",
                                    "5": "693",
                                    "6": "192"
                                },
                                {
                                    "0": "4249",
                                    "1": "3116",
                                    "2": "Todd",
                                    "3": "363",
                                    "4": "118",
                                    "5": "853",
                                    "6": "219"
                                },
                                {
                                    "0": "4269",
                                    "1": "3256",
                                    "2": "Joe",
                                    "3": "247",
                                    "4": "82",
                                    "5": "837",
                                    "6": "195"
                                },
                                {
                                    "0": "4483",
                                    "1": "3386",
                                    "2": "Earl",
                                    "3": "971",
                                    "4": "319",
                                    "5": "706",
                                    "6": "233"
                                },
                                {
                                    "0": "4541",
                                    "1": "3608",
                                    "2": "Robert",
                                    "3": "1025",
                                    "4": "274",
                                    "5": "492",
                                    "6": "121"
                                },
                                {
                                    "0": "4601",
                                    "1": "3868",
                                    "2": "Amy",
                                    "3": "716",
                                    "4": "250",
                                    "5": "689",
                                    "6": "232"
                                },
                                {
                                    "0": "4710",
                                    "1": "4255",
                                    "2": "Pamela",
                                    "3": "1382",
                                    "4": "313",
                                    "5": "883",
                                    "6": "315"
                                },
                                {
                                    "0": "4982",
                                    "1": "5639",
                                    "2": "Maria",
                                    "3": "985",
                                    "4": "244",
                                    "5": "1104",
                                    "6": "269"
                                },
                                {
                                    "0": "5913",
                                    "1": "5669",
                                    "2": "Joe",
                                    "3": "925",
                                    "4": "287",
                                    "5": "1505",
                                    "6": "392"
                                },
                                {
                                    "0": "5994",
                                    "1": "5713",
                                    "2": "Linda",
                                    "3": "2133",
                                    "4": "614",
                                    "5": "1206",
                                    "6": "404"
                                },
                                {
                                    "0": "6939",
                                    "1": "6550",
                                    "2": "Melissa",
                                    "3": "998",
                                    "4": "324",
                                    "5": "1366",
                                    "6": "413"
                                },
                                {
                                    "0": "7266",
                                    "1": "6947",
                                    "2": "Carol",
                                    "3": "898",
                                    "4": "169",
                                    "5": "1592",
                                    "6": "466"
                                },
                                {
                                    "0": "7280",
                                    "1": "7030",
                                    "2": "Paula",
                                    "3": "1064",
                                    "4": "270",
                                    "5": "338",
                                    "6": "76"
                                },
                                {
                                    "0": "7484",
                                    "1": "7033",
                                    "2": "Marilyn",
                                    "3": "1381",
                                    "4": "464",
                                    "5": "1759",
                                    "6": "450"
                                },
                                {
                                    "0": "7734",
                                    "1": "7386",
                                    "2": "Jennifer",
                                    "3": "1399",
                                    "4": "418",
                                    "5": "1720",
                                    "6": "570"
                                },
                                {
                                    "0": "7831",
                                    "1": "7787",
                                    "2": "Harry",
                                    "3": "1285",
                                    "4": "341",
                                    "5": "1391",
                                    "6": "477"
                                },
                                {
                                    "0": "7862",
                                    "1": "8029",
                                    "2": "David",
                                    "3": "818",
                                    "4": "164",
                                    "5": "968",
                                    "6": "224"
                                },
                                {
                                    "0": "8812",
                                    "1": "8147",
                                    "2": "Julia",
                                    "3": "317",
                                    "4": "61",
                                    "5": "469",
                                    "6": "150"
                                },
                                {
                                    "0": "8825",
                                    "1": "8438",
                                    "2": "Kevin",
                                    "3": "980",
                                    "4": "339",
                                    "5": "899",
                                    "6": "310"
                                },
                                {
                                    "0": "9136",
                                    "1": "8727",
                                    "2": "Paul",
                                    "3": "2140",
                                    "4": "733",
                                    "5": "1449",
                                    "6": "439"
                                },
                                {
                                    "0": "9613",
                                    "1": "8762",
                                    "2": "James",
                                    "3": "1555",
                                    "4": "388",
                                    "5": "1486",
                                    "6": "452"
                                },
                                {
                                    "0": "10568",
                                    "1": "8802",
                                    "2": "Kelly",
                                    "3": "859",
                                    "4": "299",
                                    "5": "875",
                                    "6": "265"
                                },
                                {
                                    "0": "11100",
                                    "1": "8809",
                                    "2": "Robin",
                                    "3": "1006",
                                    "4": "304",
                                    "5": "845",
                                    "6": "264"
                                },
                                {
                                    "0": "12742",
                                    "1": "9203",
                                    "2": "Ralph",
                                    "3": "539",
                                    "4": "145",
                                    "5": "629",
                                    "6": "171"
                                },
                                {
                                    "0": "12861",
                                    "1": "9644",
                                    "2": "Gloria",
                                    "3": "657",
                                    "4": "260",
                                    "5": "843",
                                    "6": "295"
                                },
                                {
                                    "0": "12865",
                                    "1": "10108",
                                    "2": "Victor",
                                    "3": "759",
                                    "4": "207",
                                    "5": "444",
                                    "6": "161"
                                },
                                {
                                    "0": "13503",
                                    "1": "10803",
                                    "2": "David",
                                    "3": "247",
                                    "4": "53",
                                    "5": "241",
                                    "6": "61"
                                },
                                {
                                    "0": "13537",
                                    "1": "11390",
                                    "2": "Joyce",
                                    "3": "435",
                                    "4": "139",
                                    "5": "717",
                                    "6": "234"
                                },
                                {
                                    "0": "13612",
                                    "1": "12592",
                                    "2": "Donna",
                                    "3": "1195",
                                    "4": "298",
                                    "5": "801",
                                    "6": "249"
                                },
                                {
                                    "0": "14502",
                                    "1": "12923",
                                    "2": "Michelle",
                                    "3": "842",
                                    "4": "245",
                                    "5": "942",
                                    "6": "282"
                                },
                                {
                                    "0": "14867",
                                    "1": "13017",
                                    "2": "Stephanie",
                                    "3": "700",
                                    "4": "201",
                                    "5": "956",
                                    "6": "215"
                                },
                                {
                                    "0": "15164",
                                    "1": "13256",
                                    "2": "Gerald",
                                    "3": "1155",
                                    "4": "405",
                                    "5": "722",
                                    "6": "251"
                                },
                                {
                                    "0": "15804",
                                    "1": "13421",
                                    "2": "Walter",
                                    "3": "780",
                                    "4": "194",
                                    "5": "401",
                                    "6": "208"
                                },
                                {
                                    "0": "15891",
                                    "1": "13569",
                                    "2": "Christina",
                                    "3": "1213",
                                    "4": "384",
                                    "5": "1119",
                                    "6": "400"
                                },
                                {
                                    "0": "16063",
                                    "1": "14287",
                                    "2": "Brandon",
                                    "3": "944",
                                    "4": "249",
                                    "5": "665",
                                    "6": "265"
                                },
                                {
                                    "0": "16415",
                                    "1": "14311",
                                    "2": "Elizabeth",
                                    "3": "1047",
                                    "4": "337",
                                    "5": "959",
                                    "6": "264"
                                }
                            ]
                        },
                        "text/html": [
                            "<table>",
                            "<tr><th>contest_id</th><th>hacker_id</th><th>name</th><th>ts</th><th>tas</th><th>tv</th><th>tuv</th></tr>",
                            "<tr><td>845</td><td>579</td><td>Rose</td><td>937</td><td>284</td><td>834</td><td>334</td></tr>",
                            "<tr><td>858</td><td>1053</td><td>Angela</td><td>561</td><td>131</td><td>536</td><td>204</td></tr>",
                            "<tr><td>883</td><td>1055</td><td>Frank</td><td>670</td><td>203</td><td>389</td><td>94</td></tr>",
                            "<tr><td>1793</td><td>2655</td><td>Patrick</td><td>573</td><td>187</td><td>665</td><td>247</td></tr>",
                            "<tr><td>2374</td><td>2765</td><td>Lisa</td><td>1364</td><td>389</td><td>1656</td><td>463</td></tr>",
                            "<tr><td>2963</td><td>2845</td><td>Kimberly</td><td>2050</td><td>621</td><td>1802</td><td>577</td></tr>",
                            "<tr><td>3584</td><td>2873</td><td>Bonnie</td><td>1212</td><td>306</td><td>1245</td><td>397</td></tr>",
                            "<tr><td>4044</td><td>3067</td><td>Michael</td><td>586</td><td>211</td><td>693</td><td>192</td></tr>",
                            "<tr><td>4249</td><td>3116</td><td>Todd</td><td>363</td><td>118</td><td>853</td><td>219</td></tr>",
                            "<tr><td>4269</td><td>3256</td><td>Joe</td><td>247</td><td>82</td><td>837</td><td>195</td></tr>",
                            "<tr><td>4483</td><td>3386</td><td>Earl</td><td>971</td><td>319</td><td>706</td><td>233</td></tr>",
                            "<tr><td>4541</td><td>3608</td><td>Robert</td><td>1025</td><td>274</td><td>492</td><td>121</td></tr>",
                            "<tr><td>4601</td><td>3868</td><td>Amy</td><td>716</td><td>250</td><td>689</td><td>232</td></tr>",
                            "<tr><td>4710</td><td>4255</td><td>Pamela</td><td>1382</td><td>313</td><td>883</td><td>315</td></tr>",
                            "<tr><td>4982</td><td>5639</td><td>Maria</td><td>985</td><td>244</td><td>1104</td><td>269</td></tr>",
                            "<tr><td>5913</td><td>5669</td><td>Joe</td><td>925</td><td>287</td><td>1505</td><td>392</td></tr>",
                            "<tr><td>5994</td><td>5713</td><td>Linda</td><td>2133</td><td>614</td><td>1206</td><td>404</td></tr>",
                            "<tr><td>6939</td><td>6550</td><td>Melissa</td><td>998</td><td>324</td><td>1366</td><td>413</td></tr>",
                            "<tr><td>7266</td><td>6947</td><td>Carol</td><td>898</td><td>169</td><td>1592</td><td>466</td></tr>",
                            "<tr><td>7280</td><td>7030</td><td>Paula</td><td>1064</td><td>270</td><td>338</td><td>76</td></tr>",
                            "<tr><td>7484</td><td>7033</td><td>Marilyn</td><td>1381</td><td>464</td><td>1759</td><td>450</td></tr>",
                            "<tr><td>7734</td><td>7386</td><td>Jennifer</td><td>1399</td><td>418</td><td>1720</td><td>570</td></tr>",
                            "<tr><td>7831</td><td>7787</td><td>Harry</td><td>1285</td><td>341</td><td>1391</td><td>477</td></tr>",
                            "<tr><td>7862</td><td>8029</td><td>David</td><td>818</td><td>164</td><td>968</td><td>224</td></tr>",
                            "<tr><td>8812</td><td>8147</td><td>Julia</td><td>317</td><td>61</td><td>469</td><td>150</td></tr>",
                            "<tr><td>8825</td><td>8438</td><td>Kevin</td><td>980</td><td>339</td><td>899</td><td>310</td></tr>",
                            "<tr><td>9136</td><td>8727</td><td>Paul</td><td>2140</td><td>733</td><td>1449</td><td>439</td></tr>",
                            "<tr><td>9613</td><td>8762</td><td>James</td><td>1555</td><td>388</td><td>1486</td><td>452</td></tr>",
                            "<tr><td>10568</td><td>8802</td><td>Kelly</td><td>859</td><td>299</td><td>875</td><td>265</td></tr>",
                            "<tr><td>11100</td><td>8809</td><td>Robin</td><td>1006</td><td>304</td><td>845</td><td>264</td></tr>",
                            "<tr><td>12742</td><td>9203</td><td>Ralph</td><td>539</td><td>145</td><td>629</td><td>171</td></tr>",
                            "<tr><td>12861</td><td>9644</td><td>Gloria</td><td>657</td><td>260</td><td>843</td><td>295</td></tr>",
                            "<tr><td>12865</td><td>10108</td><td>Victor</td><td>759</td><td>207</td><td>444</td><td>161</td></tr>",
                            "<tr><td>13503</td><td>10803</td><td>David</td><td>247</td><td>53</td><td>241</td><td>61</td></tr>",
                            "<tr><td>13537</td><td>11390</td><td>Joyce</td><td>435</td><td>139</td><td>717</td><td>234</td></tr>",
                            "<tr><td>13612</td><td>12592</td><td>Donna</td><td>1195</td><td>298</td><td>801</td><td>249</td></tr>",
                            "<tr><td>14502</td><td>12923</td><td>Michelle</td><td>842</td><td>245</td><td>942</td><td>282</td></tr>",
                            "<tr><td>14867</td><td>13017</td><td>Stephanie</td><td>700</td><td>201</td><td>956</td><td>215</td></tr>",
                            "<tr><td>15164</td><td>13256</td><td>Gerald</td><td>1155</td><td>405</td><td>722</td><td>251</td></tr>",
                            "<tr><td>15804</td><td>13421</td><td>Walter</td><td>780</td><td>194</td><td>401</td><td>208</td></tr>",
                            "<tr><td>15891</td><td>13569</td><td>Christina</td><td>1213</td><td>384</td><td>1119</td><td>400</td></tr>",
                            "<tr><td>16063</td><td>14287</td><td>Brandon</td><td>944</td><td>249</td><td>665</td><td>265</td></tr>",
                            "<tr><td>16415</td><td>14311</td><td>Elizabeth</td><td>1047</td><td>337</td><td>959</td><td>264</td></tr>",
                            "</table>"
                        ]
                    }
                }
            ],
            "execution_count": 3
        }
    ]
}