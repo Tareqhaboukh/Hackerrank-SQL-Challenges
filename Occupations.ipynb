{
    "metadata": {
        "kernelspec": {
            "name": "SQL",
            "display_name": "SQL",
            "language": "sql"
        },
        "language_info": {
            "name": "sql",
            "version": ""
        }
    },
    "nbformat_minor": 2,
    "nbformat": 4,
    "cells": [
        {
            "cell_type": "markdown",
            "source": [
                "# Occupations\r\n",
                "\r\n",
                "[Problem Link on Hackerrank](https://www.hackerrank.com/challenges/occupations/problem)\r\n",
                "\r\n",
                "Pivot the Occupation column in OCCUPATIONS so that each Name is sorted alphabetically and displayed underneath its corresponding Occupation. The output column headers should be Doctor, Professor, Singer, and Actor, respectively.\r\n",
                "\r\n",
                "Note: Print NULL when there are no more names corresponding to an occupation.\r\n",
                "\r\n",
                "Input Format\r\n",
                "\r\n",
                "The OCCUPATIONS table is described as follows:\r\n",
                "\r\n",
                "| Column | Type |\r\n",
                "| --- | --- |\r\n",
                "| name | String |\r\n",
                "| occupation | String |\r\n",
                "\r\n",
                "Occupation will only contain one of the following values: Doctor, Professor, Singer or Actor.\r\n",
                "\r\n",
                "## Solution:"
            ],
            "metadata": {
                "azdata_cell_guid": "455d66e7-f0b6-49d3-aef0-71fbb15b8eb3"
            },
            "attachments": {}
        },
        {
            "cell_type": "code",
            "source": [
                "SET @r1 = 0, @r2 = 0, @r3 = 0, @r4 = 0;\r\n",
                "\r\n",
                "SELECT min(Doctor), min(Professor), min(Singer), min(Actor)\r\n",
                "FROM (\r\n",
                "    SELECT CASE \r\n",
                "            WHEN occupation = 'Doctor' THEN (@r1: = @r1 + 1)\r\n",
                "            WHEN occupation = 'Professor' THEN (@r2: = @r2 + 1)\r\n",
                "            WHEN occupation = 'Singer' THEN (@r3: = @r3 + 1)\r\n",
                "            WHEN occupation = 'Actor' THEN (@r4: = @r4 + 1)\r\n",
                "            END AS RowNumber\r\n",
                "        , CASE \r\n",
                "            WHEN occupation = 'Doctor' THEN name\r\n",
                "            END AS Doctor\r\n",
                "        , CASE \r\n",
                "            WHEN occupation = 'Professor' THEN name\r\n",
                "            END Professor\r\n",
                "        , CASE \r\n",
                "            WHEN occupation = 'Singer' THEN name\r\n",
                "            END AS Singer\r\n",
                "        , CASE \r\n",
                "            WHEN occupation = 'Actor' THEN name\r\n",
                "            END AS Actor\r\n",
                "    FROM occupations\r\n",
                "    ORDER BY name\r\n",
                "    ) AS TEMP\r\n",
                "GROUP BY RowNumber;\r\n",
                ""
            ],
            "metadata": {
                "azdata_cell_guid": "d6d712b6-707d-47da-afc9-9f9da8eb3649",
                "language": "sql"
            },
            "outputs": [],
            "execution_count": null
        }
    ]
}