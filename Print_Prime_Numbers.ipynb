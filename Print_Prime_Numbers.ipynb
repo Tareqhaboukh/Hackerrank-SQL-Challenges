{
    "metadata": {
        "kernelspec": {
            "name": "SQL",
            "display_name": "SQL",
            "language": "sql"
        },
        "language_info": {
            "name": "sql",
            "version": ""
        }
    },
    "nbformat_minor": 2,
    "nbformat": 4,
    "cells": [
        {
            "cell_type": "markdown",
            "source": [
                "# Print Prime Numbers\n",
                "\n",
                "[Problem Link on Hackerrank](https://www.hackerrank.com/challenges/print-prime-numbers/problem)\n",
                "\n",
                "Write a query to print all prime numbers less than or equal to 1000. Print your result on a single line, and use the ampersand (&) character as your separator \\<10\\> (instead of a space).\n",
                "\n",
                "For example, the output for all prime numbers would be:\n",
                "\n",
                "2&3&5&7\n",
                "\n",
                "## Solution:"
            ],
            "metadata": {
                "azdata_cell_guid": "69a83e05-29bc-4f84-9b7a-4dfd86909c77"
            },
            "attachments": {}
        },
        {
            "cell_type": "code",
            "source": [
                "SET NOCOUNT ON\r\n",
                "DECLARE @N INT=2\r\n",
                "DECLARE @PRIME INT=0\r\n",
                "DECLARE @PRIMES TABLE (NUM INT)\r\n",
                "\r\n",
                "WHILE @N<1000\r\n",
                "BEGIN\r\n",
                "    DECLARE @J INT=@N-1\r\n",
                "    SET @PRIME=1\r\n",
                "    WHILE @J>1\r\n",
                "    BEGIN\r\n",
                "        IF @N % @J=0\r\n",
                "        BEGIN\r\n",
                "            SET @PRIME=0\r\n",
                "        END\r\n",
                "        SET @J=@J-1\r\n",
                "    END\r\n",
                "    IF @PRIME=1\r\n",
                "    BEGIN\r\n",
                "        INSERT @PRIMES VALUES (@N)\r\n",
                "    END\r\n",
                "    SET @N=@N+1\r\n",
                "END\r\n",
                "\r\n",
                "SELECT STRING_AGG(NUM,'&') AS prime_numbers FROM @PRIMES"
            ],
            "metadata": {
                "azdata_cell_guid": "53dc2664-29b4-40e4-8e80-f9902f6a2770",
                "language": "sql",
                "tags": []
            },
            "outputs": [
                {
                    "output_type": "display_data",
                    "data": {
                        "text/html": "Commands completed successfully."
                    },
                    "metadata": {}
                },
                {
                    "output_type": "display_data",
                    "data": {
                        "text/html": "Total execution time: 00:00:00.458"
                    },
                    "metadata": {}
                },
                {
                    "output_type": "execute_result",
                    "execution_count": 7,
                    "data": {
                        "application/vnd.dataresource+json": {
                            "schema": {
                                "fields": [
                                    {
                                        "name": "prime_numbers"
                                    }
                                ]
                            },
                            "data": [
                                {
                                    "0": "2&3&5&7&11&13&17&19&23&29&31&37&41&43&47&53&59&61&67&71&73&79&83&89&97&101&103&107&109&113&127&131&137&139&149&151&157&163&167&173&179&181&191&193&197&199&211&223&227&229&233&239&241&251&257&263&269&271&277&281&283&293&307&311&313&317&331&337&347&349&353&359&367&373&379&383&389&397&401&409&419&421&431&433&439&443&449&457&461&463&467&479&487&491&499&503&509&521&523&541&547&557&563&569&571&577&587&593&599&601&607&613&617&619&631&641&643&647&653&659&661&673&677&683&691&701&709&719&727&733&739&743&751&757&761&769&773&787&797&809&811&821&823&827&829&839&853&857&859&863&877&881&883&887&907&911&919&929&937&941&947&953&967&971&977&983&991&997"
                                }
                            ]
                        },
                        "text/html": "<table><tr><th>prime_numbers</th></tr><tr><td>2&amp;3&amp;5&amp;7&amp;11&amp;13&amp;17&amp;19&amp;23&amp;29&amp;31&amp;37&amp;41&amp;43&amp;47&amp;53&amp;59&amp;61&amp;67&amp;71&amp;73&amp;79&amp;83&amp;89&amp;97&amp;101&amp;103&amp;107&amp;109&amp;113&amp;127&amp;131&amp;137&amp;139&amp;149&amp;151&amp;157&amp;163&amp;167&amp;173&amp;179&amp;181&amp;191&amp;193&amp;197&amp;199&amp;211&amp;223&amp;227&amp;229&amp;233&amp;239&amp;241&amp;251&amp;257&amp;263&amp;269&amp;271&amp;277&amp;281&amp;283&amp;293&amp;307&amp;311&amp;313&amp;317&amp;331&amp;337&amp;347&amp;349&amp;353&amp;359&amp;367&amp;373&amp;379&amp;383&amp;389&amp;397&amp;401&amp;409&amp;419&amp;421&amp;431&amp;433&amp;439&amp;443&amp;449&amp;457&amp;461&amp;463&amp;467&amp;479&amp;487&amp;491&amp;499&amp;503&amp;509&amp;521&amp;523&amp;541&amp;547&amp;557&amp;563&amp;569&amp;571&amp;577&amp;587&amp;593&amp;599&amp;601&amp;607&amp;613&amp;617&amp;619&amp;631&amp;641&amp;643&amp;647&amp;653&amp;659&amp;661&amp;673&amp;677&amp;683&amp;691&amp;701&amp;709&amp;719&amp;727&amp;733&amp;739&amp;743&amp;751&amp;757&amp;761&amp;769&amp;773&amp;787&amp;797&amp;809&amp;811&amp;821&amp;823&amp;827&amp;829&amp;839&amp;853&amp;857&amp;859&amp;863&amp;877&amp;881&amp;883&amp;887&amp;907&amp;911&amp;919&amp;929&amp;937&amp;941&amp;947&amp;953&amp;967&amp;971&amp;977&amp;983&amp;991&amp;997</td></tr></table>"
                    },
                    "metadata": {}
                }
            ],
            "execution_count": 7
        }
    ]
}