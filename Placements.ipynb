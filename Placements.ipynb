{
    "metadata": {
        "kernelspec": {
            "name": "SQL",
            "display_name": "SQL",
            "language": "sql"
        },
        "language_info": {
            "name": "sql",
            "version": ""
        }
    },
    "nbformat_minor": 2,
    "nbformat": 4,
    "cells": [
        {
            "cell_type": "markdown",
            "source": [
                "# Placements\r\n",
                "\r\n",
                "[Problem Link on Hackerrank](https://www.hackerrank.com/challenges/placements/problem)\r\n",
                "\r\n",
                "You are given three tables: Students, Friends and Packages. Students contains two columns: ID and Name. Friends contains two columns: ID and Friend_ID (ID of the ONLY best friend). Packages contains two columns: ID and Salary (offered salary in $ thousands per month).\r\n",
                "\r\n",
                "Students:\r\n",
                "\r\n",
                "| Column | Type |\r\n",
                "| --- | --- |\r\n",
                "| id | Integer |\r\n",
                "| name | String |\r\n",
                "\r\n",
                "Friends:\r\n",
                "\r\n",
                "| Column | Type |\r\n",
                "| --- | --- |\r\n",
                "| id | Integer |\r\n",
                "| friend_id | Integer |\r\n",
                "\r\n",
                "Packages:\r\n",
                "\r\n",
                "| Column | Type |\r\n",
                "| --- | --- |\r\n",
                "| id | Integer |\r\n",
                "| salary | float |\r\n",
                "\r\n",
                "\r\n",
                "\r\n",
                "Write a query to output the names of those students whose best friends got offered a higher salary than them. Names must be ordered by the salary amount offered to the best friends. It is guaranteed that no two students got same salary offer."
            ],
            "metadata": {
                "azdata_cell_guid": "cecb65d5-cde5-47ee-a38c-e5fe39e1fcd6"
            },
            "attachments": {}
        },
        {
            "cell_type": "code",
            "source": [
                "SELECT s.name\r\n",
                "FROM students s\r\n",
                "JOIN packages p\r\n",
                "    ON s.id = p.id\r\n",
                "JOIN (\r\n",
                "    SELECT f.id, f.friend_id, p.salary\r\n",
                "    FROM friends f\r\n",
                "    JOIN packages p\r\n",
                "        ON f.friend_id = p.id\r\n",
                "    ) TEMP\r\n",
                "    ON s.id = TEMP.id\r\n",
                "WHERE TEMP.salary > p.salary\r\n",
                "ORDER BY TEMP.salary"
            ],
            "metadata": {
                "azdata_cell_guid": "88f27316-ed6c-48e4-94dc-219125bf9be1",
                "language": "sql"
            },
            "outputs": [],
            "execution_count": null
        }
    ]
}