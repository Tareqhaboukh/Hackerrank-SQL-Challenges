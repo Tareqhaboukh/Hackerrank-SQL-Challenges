{
    "metadata": {
        "kernelspec": {
            "name": "SQL",
            "display_name": "SQL",
            "language": "sql"
        },
        "language_info": {
            "name": "sql",
            "version": ""
        }
    },
    "nbformat_minor": 2,
    "nbformat": 4,
    "cells": [
        {
            "cell_type": "markdown",
            "source": [
                "# 15 Days of Learning SQL\n",
                "[Problem Link on Hackerrank](https://www.hackerrank.com/challenges/15-days-of-learning-sql/problem)  \n",
                "Julia conducted a 15 days of learning SQL contest. The start date of the contest was March 01, 2016 and the end date was March 15, 2016.\n",
                "Write a query to print total number of unique hackers who made at least 1 submission each day (starting on the first day of the contest), and find the hacker\\_id and name of the hacker who made maximum number of submissions each day. If more than one such hacker has a maximum number of submissions, print the lowest hacker\\_id. The query should print this information for each day of the contest, sorted by the date.\n",
                "Input Format\n",
                "The following tables hold contest data:\n",
                "Hackers: The hacker\\_id is the id of the hacker, and name is the name of the hacker.\n",
                "\n",
                "| Column | Type |\n",
                "| --- | --- |\n",
                "| hacker\\_id | Integer |\n",
                "| name | String |\n",
                "\n",
                "Submissions: The submission\\_date is the date of the submission, submission\\_id is the id of the submission, hacker\\_id is the id of the hacker who made the submission, and score is the score of the submission.\n",
                "\n",
                "| Column | Type |\n",
                "| --- | --- |\n",
                "| submission\\_date | Date |\n",
                "| submission\\_id | Integer |\n",
                "| hacker\\_id | Integer |\n",
                "| score | Integer |\n",
                "\n",
                "## Solution:"
            ],
            "metadata": {
                "azdata_cell_guid": "82f1602c-8ec3-4b4e-b41a-9b5784527157"
            },
            "attachments": {}
        },
        {
            "cell_type": "code",
            "source": [
                "WITH\r\n",
                "CTE_1 AS (\r\n",
                "\r\n",
                "SELECT submission_date\r\n",
                "        ,hacker_id\r\n",
                "        ,DAY(submission_date) - DENSE_RANK() OVER (PARTITION BY hacker_id ORDER BY submission_date) AS rank\r\n",
                "FROM submissions\r\n",
                "),\r\n",
                "\r\n",
                "CTE_2 AS (\r\n",
                "SELECT submission_date, COUNT(DISTINCT(hacker_id)) AS unique_hackers\r\n",
                "FROM CTE_1\r\n",
                "WHERE rank = 0\r\n",
                "GROUP BY submission_date\r\n",
                "),\r\n",
                "\r\n",
                "CTE_3 AS (\r\n",
                "SELECT s.submission_date, s.hacker_id, h.name, rank() OVER (PARTITION BY s.submission_date ORDER BY COUNT(s.hacker_id) DESC, s.hacker_id) AS rank_2\r\n",
                "FROM submissions AS s\r\n",
                "JOIN hackers AS h ON s.hacker_id = h.hacker_id\r\n",
                "GROUP BY s.submission_date, s.hacker_id, h.name\r\n",
                "),\r\n",
                "\r\n",
                "CTE_4 AS (\r\n",
                "SELECT submission_date, hacker_id, name\r\n",
                "FROM CTE_3\r\n",
                "WHERE rank_2 = 1\r\n",
                ")\r\n",
                "\r\n",
                "SELECT CTE_2.submission_date, CTE_2.unique_hackers, CTE_4.hacker_id, CTE_4.name\r\n",
                "FROM CTE_2\r\n",
                "JOIN CTE_4 ON CTE_2.submission_date = CTE_4.submission_date"
            ],
            "metadata": {
                "azdata_cell_guid": "a8be907a-f82d-42fa-9dd2-694af1b1673c",
                "language": "sql"
            },
            "outputs": [],
            "execution_count": null
        }
    ]
}