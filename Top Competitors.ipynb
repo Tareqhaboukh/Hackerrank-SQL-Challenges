{
    "metadata": {
        "kernelspec": {
            "name": "SQL",
            "display_name": "SQL",
            "language": "sql"
        },
        "language_info": {
            "name": "sql",
            "version": ""
        }
    },
    "nbformat_minor": 2,
    "nbformat": 4,
    "cells": [
        {
            "cell_type": "markdown",
            "source": [
                "# Top Competitors\n",
                "\n",
                "[Problem Link on Hackerrank](https://www.hackerrank.com/challenges/full-score/problem)\n",
                "\n",
                "Julia just finished conducting a coding contest, and she needs your help assembling the leaderboard! Write a query to print the respective hacker_id and name of hackers who achieved full scores for more than one challenge. Order your output in descending order by the total number of challenges in which the hacker earned a full score. If more than one hacker received full scores in same number of challenges, then sort them by ascending hacker_id.\n",
                "\n",
                "Input Format\n",
                "\n",
                "The following tables contain contest data:\n",
                "\n",
                "Hackers: The hacker_id is the id of the hacker, and name is the name of the hacker.\n",
                "\n",
                "| Column | Type |\n",
                "| --- | --- |\n",
                "| hacker\\_id | Integer |\n",
                "| name | String |\n",
                "\n",
                "Difficulty: The difficult_level is the level of difficulty of the challenge, and score is the score of the challenge for the difficulty level.\n",
                "\n",
                "| Column | Type |\n",
                "| --- | --- |\n",
                "| difficulty_level | Integer |\n",
                "| score | Integer |\n",
                "\n",
                "Challenges: The challenge_id is the id of the challenge, the hacker_id is the id of the hacker who created the challenge, and difficulty_level is the level of difficulty of the challenge.\n",
                "\n",
                "| Column | Type |\n",
                "| --- | --- |\n",
                "| Challenge\\_id | Integer |\n",
                "| hacker\\_id | Integer |\n",
                "| difficulty_level | Integer |\n",
                "\n",
                "Submissions: The submission_id is the id of the submission, hacker_id is the id of the hacker who made the submission, challenge_id is the id of the challenge that the submission belongs to, and score is the score of the submission.\n",
                "\n",
                "| Column | Type |\n",
                "| --- | --- |\n",
                "| submission\\_date | Integer |\n",
                "| hacker\\_id | Integer |\n",
                "| Challenge\\_id | Integer |\n",
                "| score | Integer |\n",
                ""
            ],
            "metadata": {
                "language": "sql",
                "azdata_cell_guid": "63cf1937-b3ed-45c9-9eb8-e229f1880232"
            },
            "attachments": {}
        },
        {
            "cell_type": "code",
            "source": [
                "SELECT temp2.id2, temp2.n2\r\n",
                "FROM (\r\n",
                "    SELECT TEMP.id AS id2, TEMP.n AS n2, count(*) AS a\r\n",
                "    FROM (\r\n",
                "        SELECT h.hacker_id AS id, h.name AS n, d.score AS ds, s.score AS ss\r\n",
                "        FROM hackers h\r\n",
                "        JOIN submissions s\r\n",
                "            ON h.hacker_id = s.hacker_id\r\n",
                "        JOIN challenges c\r\n",
                "            ON c.challenge_id = s.challenge_id\r\n",
                "        JOIN difficulty d\r\n",
                "            ON c.difficulty_level = d.difficulty_level\r\n",
                "        HAVING ds - ss = 0\r\n",
                "        ) TEMP\r\n",
                "    GROUP BY 1, 2\r\n",
                "    ORDER BY count(*) DESC, TEMP.id ASC\r\n",
                "    ) temp2\r\n",
                "WHERE temp2.a > 1"
            ],
            "metadata": {
                "azdata_cell_guid": "a59ba949-072f-41fb-a407-2f74b243028b",
                "language": "sql"
            },
            "outputs": [],
            "execution_count": null
        }
    ]
}