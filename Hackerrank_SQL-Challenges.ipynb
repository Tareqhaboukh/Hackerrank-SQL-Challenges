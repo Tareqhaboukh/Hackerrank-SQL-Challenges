{
    "metadata": {
        "kernelspec": {
            "name": "SQL",
            "display_name": "SQL",
            "language": "sql"
        },
        "language_info": {
            "name": "sql",
            "version": ""
        }
    },
    "nbformat_minor": 2,
    "nbformat": 4,
    "cells": [
        {
            "cell_type": "markdown",
            "source": [
                "# Hackerrank SQL Challenges & Solutions"
            ],
            "metadata": {
                "azdata_cell_guid": "4245fb26-27db-4a45-9456-15764414846f"
            },
            "attachments": {}
        },
        {
            "cell_type": "markdown",
            "source": [
                "### 1. Challenges\r\n",
                "[Problem](https://www.hackerrank.com/challenges/challenges/problem)\r\n",
                "\r\n",
                "Solution:"
            ],
            "metadata": {
                "azdata_cell_guid": "3386d004-0d79-465a-b1bf-4e1acd1bf82e"
            },
            "attachments": {}
        },
        {
            "cell_type": "code",
            "source": [
                "SELECT c.hacker_id\r\n",
                "    , h.name\r\n",
                "    , count(c.hacker_id) AS ch_count\r\n",
                "FROM hackers h\r\n",
                "INNER JOIN challenges c\r\n",
                "    ON h.hacker_id = c.hacker_id\r\n",
                "GROUP BY h.hacker_id\r\n",
                "    , h.name\r\n",
                "HAVING ch_count = (\r\n",
                "        SELECT max(temp1.cnt)\r\n",
                "        FROM (\r\n",
                "            SELECT count(hacker_id) AS cnt\r\n",
                "            FROM challenges\r\n",
                "            GROUP BY hacker_id\r\n",
                "            ) temp1\r\n",
                "        )\r\n",
                "    OR ch_count IN (\r\n",
                "        SELECT t.cnt\r\n",
                "        FROM (\r\n",
                "            SELECT count(*) AS cnt\r\n",
                "            FROM challenges\r\n",
                "            GROUP BY hacker_id\r\n",
                "            ) t\r\n",
                "        GROUP BY t.cnt\r\n",
                "        HAVING count(t.cnt) = 1\r\n",
                "        )\r\n",
                "ORDER BY ch_count DESC\r\n",
                "    , h.hacker_id"
            ],
            "metadata": {
                "azdata_cell_guid": "bcf2e03f-5745-47a6-88b1-a73919645ed9",
                "language": "sql"
            },
            "outputs": [],
            "execution_count": null
        },
        {
            "cell_type": "markdown",
            "source": [
                "### 2. Contest leaderboard\r\n",
                "[Problem](https://www.hackerrank.com/challenges/contest-leaderboard/problem)\r\n",
                "\r\n",
                "Solution:"
            ],
            "metadata": {
                "azdata_cell_guid": "3531581f-aaa3-4685-916c-bedc72ca8e9e"
            },
            "attachments": {}
        },
        {
            "cell_type": "code",
            "source": [
                "SELECT t.hacker_id\r\n",
                "    , h.name\r\n",
                "    , sum(t.max_score) AS sum_score\r\n",
                "FROM (\r\n",
                "    SELECT s.hacker_id\r\n",
                "        , s.challenge_id cid\r\n",
                "        , max(s.score) AS max_score\r\n",
                "    FROM submissions s\r\n",
                "    GROUP BY s.hacker_id\r\n",
                "        , s.challenge_id\r\n",
                "    ) t\r\n",
                "JOIN hackers h\r\n",
                "    ON t.hacker_id = h.hacker_id\r\n",
                "GROUP BY t.hacker_id\r\n",
                "    , h.name\r\n",
                "HAVING sum_score > 0\r\n",
                "ORDER BY sum_score DESC\r\n",
                "    , t.hacker_id"
            ],
            "metadata": {
                "azdata_cell_guid": "f4b9119a-a1c2-431d-8da0-cd7fb78dd67c",
                "language": "sql"
            },
            "outputs": [],
            "execution_count": null
        },
        {
            "cell_type": "markdown",
            "source": [
                "### 3. New Companies\r\n",
                "[Problem](https://www.hackerrank.com/challenges/the-company/problem)\r\n",
                "\r\n",
                "Solution:"
            ],
            "metadata": {
                "language": "sql",
                "azdata_cell_guid": "1cd6f442-06cf-400b-98f4-f5b8af296a26"
            },
            "attachments": {}
        },
        {
            "cell_type": "code",
            "source": [
                "SELECT c.company_code\r\n",
                "    , c.founder\r\n",
                "    , count(DISTINCT (lm.lead_manager_code))\r\n",
                "    , count(DISTINCT (sm.senior_manager_code))\r\n",
                "    , count(DISTINCT (m.manager_code))\r\n",
                "    , count(DISTINCT (e.employee_code))\r\n",
                "FROM Company c\r\n",
                "    , Lead_Manager lm\r\n",
                "    , Senior_Manager sm\r\n",
                "    , Manager m\r\n",
                "    , Employee e\r\n",
                "WHERE c.company_code = lm.company_code\r\n",
                "    AND lm.lead_manager_code = sm.lead_manager_code\r\n",
                "    AND sm.senior_manager_code = m.senior_manager_code\r\n",
                "    AND m.manager_code = e.manager_code\r\n",
                "GROUP BY c.company_code\r\n",
                "    , c.founder\r\n",
                "ORDER BY c.company_code ASC;"
            ],
            "metadata": {
                "azdata_cell_guid": "5a439c8f-0558-4596-99fd-af67b78181eb",
                "language": "sql"
            },
            "outputs": [],
            "execution_count": null
        },
        {
            "cell_type": "markdown",
            "source": [
                "### 4. Occupations\r\n",
                "[Problem](https://www.hackerrank.com/challenges/occupations/problem)\r\n",
                "\r\n",
                "Solution:"
            ],
            "metadata": {
                "language": "sql",
                "azdata_cell_guid": "8abcffe0-f5de-4920-b19b-df43528eca51"
            },
            "attachments": {}
        },
        {
            "cell_type": "code",
            "source": [
                "SET @r1 = 0\r\n",
                "    , @r2 = 0\r\n",
                "    , @r3 = 0\r\n",
                "    , @r4 = 0;\r\n",
                "\r\n",
                "SELECT min(Doctor)\r\n",
                "    , min(Professor)\r\n",
                "    , min(Singer)\r\n",
                "    , min(Actor)\r\n",
                "FROM (\r\n",
                "    SELECT CASE \r\n",
                "            WHEN occupation = 'Doctor'\r\n",
                "                THEN (@r1: = @r1 + 1)\r\n",
                "            WHEN occupation = 'Professor'\r\n",
                "                THEN (@r2: = @r2 + 1)\r\n",
                "            WHEN occupation = 'Singer'\r\n",
                "                THEN (@r3: = @r3 + 1)\r\n",
                "            WHEN occupation = 'Actor'\r\n",
                "                THEN (@r4: = @r4 + 1)\r\n",
                "            END AS RowNumber\r\n",
                "        , CASE \r\n",
                "            WHEN occupation = 'Doctor'\r\n",
                "                THEN name\r\n",
                "            END AS Doctor\r\n",
                "        , CASE \r\n",
                "            WHEN occupation = 'Professor'\r\n",
                "                THEN name\r\n",
                "            END Professor\r\n",
                "        , CASE \r\n",
                "            WHEN occupation = 'Singer'\r\n",
                "                THEN name\r\n",
                "            END AS Singer\r\n",
                "        , CASE \r\n",
                "            WHEN occupation = 'Actor'\r\n",
                "                THEN name\r\n",
                "            END AS Actor\r\n",
                "    FROM occupations\r\n",
                "    ORDER BY name\r\n",
                "    ) AS TEMP\r\n",
                "GROUP BY RowNumber;"
            ],
            "metadata": {
                "azdata_cell_guid": "21941358-9f16-4d1b-bda5-bb2247f0958a",
                "language": "sql"
            },
            "outputs": [],
            "execution_count": null
        },
        {
            "cell_type": "markdown",
            "source": [
                "### 5. Placements\r\n",
                "[Problem](https://www.hackerrank.com/challenges/placements/problem)\r\n",
                "\r\n",
                "\r\n",
                "Solution:"
            ],
            "metadata": {
                "azdata_cell_guid": "e676359c-5ae4-4116-87cf-3ffa48da3081"
            },
            "attachments": {}
        },
        {
            "cell_type": "code",
            "source": [
                "SELECT s.name\r\n",
                "FROM students s\r\n",
                "JOIN packages p\r\n",
                "    ON s.id = p.id\r\n",
                "JOIN (\r\n",
                "    SELECT f.id\r\n",
                "        , f.friend_id\r\n",
                "        , p.salary\r\n",
                "    FROM friends f\r\n",
                "    JOIN packages p\r\n",
                "        ON f.friend_id = p.id\r\n",
                "    ) TEMP\r\n",
                "    ON s.id = TEMP.id\r\n",
                "WHERE TEMP.salary > p.salary\r\n",
                "ORDER BY TEMP.salary"
            ],
            "metadata": {
                "azdata_cell_guid": "7db09f2a-5303-463a-9f59-cd4ea71360ea",
                "language": "sql"
            },
            "outputs": [],
            "execution_count": null
        },
        {
            "cell_type": "markdown",
            "source": [
                "### 6. Top Competitors\r\n",
                "[Problem](https://www.hackerrank.com/challenges/full-score/problem)\r\n",
                "\r\n",
                "Solution:"
            ],
            "metadata": {
                "azdata_cell_guid": "10f0719a-dbc1-48c2-a157-d21c16ccd67c"
            },
            "attachments": {}
        },
        {
            "cell_type": "code",
            "source": [
                "SELECT temp2.id2\r\n",
                "    , temp2.n2\r\n",
                "FROM (\r\n",
                "    SELECT TEMP.id AS id2\r\n",
                "        , TEMP.n AS n2\r\n",
                "        , count(*) AS a\r\n",
                "    FROM (\r\n",
                "        SELECT h.hacker_id AS id\r\n",
                "            , h.name AS n\r\n",
                "            , d.score AS ds\r\n",
                "            , s.score AS ss\r\n",
                "        FROM hackers h\r\n",
                "        JOIN submissions s\r\n",
                "            ON h.hacker_id = s.hacker_id\r\n",
                "        JOIN challenges c\r\n",
                "            ON c.challenge_id = s.challenge_id\r\n",
                "        JOIN difficulty d\r\n",
                "            ON c.difficulty_level = d.difficulty_level\r\n",
                "        HAVING ds - ss = 0\r\n",
                "        ) TEMP\r\n",
                "    GROUP BY 1\r\n",
                "        , 2\r\n",
                "    ORDER BY count(*) DESC\r\n",
                "        , TEMP.id ASC\r\n",
                "    ) temp2\r\n",
                "WHERE temp2.a > 1"
            ],
            "metadata": {
                "azdata_cell_guid": "148ad736-797c-4f74-afbd-4d7d693af7f5",
                "language": "sql"
            },
            "outputs": [],
            "execution_count": null
        }
    ]
}