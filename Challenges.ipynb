{
    "metadata": {
        "kernelspec": {
            "name": "SQL",
            "display_name": "SQL",
            "language": "sql"
        },
        "language_info": {
            "name": "sql",
            "version": ""
        }
    },
    "nbformat_minor": 2,
    "nbformat": 4,
    "cells": [
        {
            "cell_type": "markdown",
            "source": [
                "# Challenges\n",
                "[Problem Link on Hackerrank](https://www.hackerrank.com/challenges/challenges/problem)\n",
                "\n",
                "Julia asked her students to create some coding challenges. Write a query to print the hacker\\_id, name, and the total number of challenges created by each student. Sort your results by the total number of challenges in descending order. If more than one student created the same number of challenges, then sort the result by hacker\\_id. If more than one student created the same number of challenges and the count is less than the maximum number of challenges created, then exclude those students from the result.\n",
                "\n",
                "Input Format\n",
                "\n",
                "The following tables contain challenge data:\n",
                "\n",
                "Hackers: The hacker\\_id is the id of the hacker, and name is the name of the hacker.\n",
                "\n",
                "| Column | Type |\n",
                "| --- | --- |\n",
                "| hacker\\_id | Integer |\n",
                "| name | String |\n",
                "\n",
                "Challenges: The challenge\\_id is the id of the challenge, and hacker\\_id is the id of the student who created the challenge.\n",
                "\n",
                "| Column | Type |\n",
                "| --- | --- |\n",
                "| Challenge\\_id | Integer |\n",
                "| hacker\\_id | Integer |\n",
                "\n",
                "## Solution:"
            ],
            "metadata": {
                "azdata_cell_guid": "906cabe9-de92-418c-8075-3c1c41eda862"
            },
            "attachments": {}
        },
        {
            "cell_type": "code",
            "source": [
                "SELECT c.hacker_id, h.name, count(c.hacker_id) AS ch_count\r\n",
                "FROM hackers h\r\n",
                "INNER JOIN challenges c\r\n",
                "    ON h.hacker_id = c.hacker_id\r\n",
                "GROUP BY h.hacker_id\r\n",
                "    , h.name\r\n",
                "HAVING ch_count = (\r\n",
                "        SELECT max(temp1.cnt)\r\n",
                "        FROM (\r\n",
                "            SELECT count(hacker_id) AS cnt\r\n",
                "            FROM challenges\r\n",
                "            GROUP BY hacker_id\r\n",
                "            ) temp1\r\n",
                "        )\r\n",
                "    OR ch_count IN (\r\n",
                "        SELECT t.cnt\r\n",
                "        FROM (\r\n",
                "            SELECT count(*) AS cnt\r\n",
                "            FROM challenges\r\n",
                "            GROUP BY hacker_id\r\n",
                "            ) t\r\n",
                "        GROUP BY t.cnt\r\n",
                "        HAVING count(t.cnt) = 1\r\n",
                "        )\r\n",
                "ORDER BY ch_count DESC, h.hacker_id"
            ],
            "metadata": {
                "azdata_cell_guid": "f640666e-6611-447e-9c35-63efa691845b",
                "language": "sql"
            },
            "outputs": [],
            "execution_count": null
        }
    ]
}