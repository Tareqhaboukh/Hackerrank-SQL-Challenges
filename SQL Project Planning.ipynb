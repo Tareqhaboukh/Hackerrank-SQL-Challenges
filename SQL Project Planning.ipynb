{
    "metadata": {
        "kernelspec": {
            "name": "SQL",
            "display_name": "SQL",
            "language": "sql"
        },
        "language_info": {
            "name": "sql",
            "version": ""
        }
    },
    "nbformat_minor": 2,
    "nbformat": 4,
    "cells": [
        {
            "cell_type": "markdown",
            "source": [
                "# SQL Project Planning\r\n",
                "[Problem Link on Hackerrank](https://www.hackerrank.com/challenges/sql-projects/problem)\r\n",
                "\r\n",
                "You are given a table, Projects, containing three columns: Task_ID, Start_Date and End_Date. It is guaranteed that the difference between the End_Date and the Start_Date is equal to 1 day for each row in the table.\r\n",
                "\r\n",
                "| Column | Type |\r\n",
                "| --- | --- |\r\n",
                "| task_id | Integer |\r\n",
                "| start_date | Date |\r\n",
                "| end_date | Date |\r\n",
                "\r\n",
                "If the End_Date of the tasks are consecutive, then they are part of the same project. Samantha is interested in finding the total number of different projects completed.\r\n",
                "\r\n",
                "Write a query to output the start and end dates of projects listed by the number of days it took to complete the project in ascending order. If there is more than one project that have the same number of completion days, then order by the start date of the project.\r\n",
                "\r\n",
                "## Solution:"
            ],
            "metadata": {
                "language": "sql",
                "azdata_cell_guid": "2ffe9b4e-85ca-46e4-a70e-a5928839be00"
            },
            "attachments": {}
        },
        {
            "cell_type": "code",
            "source": [
                "SELECT a.start_date\r\n",
                "    , MIN(b.end_date)\r\n",
                "FROM (\r\n",
                "    SELECT *\r\n",
                "    FROM projects\r\n",
                "    WHERE start_date NOT IN (\r\n",
                "            SELECT end_date\r\n",
                "            FROM projects\r\n",
                "            )\r\n",
                "    ) a\r\n",
                "    , (\r\n",
                "        SELECT *\r\n",
                "        FROM projects\r\n",
                "        WHERE end_date NOT IN (\r\n",
                "                SELECT start_date\r\n",
                "                FROM projects\r\n",
                "                )\r\n",
                "        ) b\r\n",
                "WHERE a.start_date < b.end_date\r\n",
                "GROUP BY a.start_date\r\n",
                "ORDER BY DATEDIFF(DAY, a.start_date, MIN(b.end_date))\r\n",
                "    , a.start_date"
            ],
            "metadata": {
                "azdata_cell_guid": "ed64f6a9-b52c-43b6-9434-a0103ab9db5e",
                "language": "sql"
            },
            "outputs": [],
            "execution_count": null
        }
    ]
}